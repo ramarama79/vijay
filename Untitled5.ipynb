{
 "cells": [
  {
   "cell_type": "code",
   "execution_count": 1,
   "metadata": {
    "collapsed": true
   },
   "outputs": [],
   "source": [
    "import pandas as pd"
   ]
  },
  {
   "cell_type": "code",
   "execution_count": 9,
   "metadata": {
    "collapsed": false
   },
   "outputs": [],
   "source": [
    "adult=pd.read_csv('https://archive.ics.uci.edu/ml/machine-learning-databases/adult/adult.data')"
   ]
  },
  {
   "cell_type": "code",
   "execution_count": 4,
   "metadata": {
    "collapsed": false
   },
   "outputs": [
    {
     "data": {
      "text/html": [
       "<div>\n",
       "<table border=\"1\" class=\"dataframe\">\n",
       "  <thead>\n",
       "    <tr style=\"text-align: right;\">\n",
       "      <th></th>\n",
       "      <th>&lt;!DOCTYPE HTML PUBLIC \"-//W3C//DTD HTML 3.2 Final//EN\"&gt;</th>\n",
       "    </tr>\n",
       "  </thead>\n",
       "  <tbody>\n",
       "    <tr>\n",
       "      <th>0</th>\n",
       "      <td>&lt;html&gt;</td>\n",
       "    </tr>\n",
       "    <tr>\n",
       "      <th>1</th>\n",
       "      <td>&lt;head&gt;</td>\n",
       "    </tr>\n",
       "    <tr>\n",
       "      <th>2</th>\n",
       "      <td>&lt;title&gt;Index of /ml/machine-learning-databas...</td>\n",
       "    </tr>\n",
       "    <tr>\n",
       "      <th>3</th>\n",
       "      <td>&lt;/head&gt;</td>\n",
       "    </tr>\n",
       "    <tr>\n",
       "      <th>4</th>\n",
       "      <td>&lt;body&gt;</td>\n",
       "    </tr>\n",
       "    <tr>\n",
       "      <th>5</th>\n",
       "      <td>&lt;h1&gt;Index of /ml/machine-learning-databases/ad...</td>\n",
       "    </tr>\n",
       "    <tr>\n",
       "      <th>6</th>\n",
       "      <td>&lt;table&gt;&lt;tr&gt;&lt;th&gt;&lt;img src=\"/icons/blank.gif\" alt...</td>\n",
       "    </tr>\n",
       "    <tr>\n",
       "      <th>7</th>\n",
       "      <td>&lt;tr&gt;&lt;td valign=\"top\"&gt;&lt;img src=\"/icons/back.gif...</td>\n",
       "    </tr>\n",
       "    <tr>\n",
       "      <th>8</th>\n",
       "      <td>&lt;tr&gt;&lt;td valign=\"top\"&gt;&lt;img src=\"/icons/unknown....</td>\n",
       "    </tr>\n",
       "    <tr>\n",
       "      <th>9</th>\n",
       "      <td>&lt;tr&gt;&lt;td valign=\"top\"&gt;&lt;img src=\"/icons/unknown....</td>\n",
       "    </tr>\n",
       "    <tr>\n",
       "      <th>10</th>\n",
       "      <td>&lt;tr&gt;&lt;td valign=\"top\"&gt;&lt;img src=\"/icons/text.gif...</td>\n",
       "    </tr>\n",
       "    <tr>\n",
       "      <th>11</th>\n",
       "      <td>&lt;tr&gt;&lt;td valign=\"top\"&gt;&lt;img src=\"/icons/unknown....</td>\n",
       "    </tr>\n",
       "    <tr>\n",
       "      <th>12</th>\n",
       "      <td>&lt;tr&gt;&lt;td valign=\"top\"&gt;&lt;img src=\"/icons/text.gif...</td>\n",
       "    </tr>\n",
       "    <tr>\n",
       "      <th>13</th>\n",
       "      <td>&lt;tr&gt;&lt;th colspan=\"5\"&gt;&lt;hr&gt;&lt;/th&gt;&lt;/tr&gt;</td>\n",
       "    </tr>\n",
       "    <tr>\n",
       "      <th>14</th>\n",
       "      <td>&lt;/table&gt;</td>\n",
       "    </tr>\n",
       "    <tr>\n",
       "      <th>15</th>\n",
       "      <td>&lt;address&gt;Apache/2.2.15 (CentOS) Server at arch...</td>\n",
       "    </tr>\n",
       "    <tr>\n",
       "      <th>16</th>\n",
       "      <td>&lt;/body&gt;&lt;/html&gt;</td>\n",
       "    </tr>\n",
       "  </tbody>\n",
       "</table>\n",
       "</div>"
      ],
      "text/plain": [
       "   <!DOCTYPE HTML PUBLIC \"-//W3C//DTD HTML 3.2 Final//EN\">\n",
       "0                                              <html>     \n",
       "1                                              <head>     \n",
       "2     <title>Index of /ml/machine-learning-databas...     \n",
       "3                                             </head>     \n",
       "4                                              <body>     \n",
       "5   <h1>Index of /ml/machine-learning-databases/ad...     \n",
       "6   <table><tr><th><img src=\"/icons/blank.gif\" alt...     \n",
       "7   <tr><td valign=\"top\"><img src=\"/icons/back.gif...     \n",
       "8   <tr><td valign=\"top\"><img src=\"/icons/unknown....     \n",
       "9   <tr><td valign=\"top\"><img src=\"/icons/unknown....     \n",
       "10  <tr><td valign=\"top\"><img src=\"/icons/text.gif...     \n",
       "11  <tr><td valign=\"top\"><img src=\"/icons/unknown....     \n",
       "12  <tr><td valign=\"top\"><img src=\"/icons/text.gif...     \n",
       "13                 <tr><th colspan=\"5\"><hr></th></tr>     \n",
       "14                                           </table>     \n",
       "15  <address>Apache/2.2.15 (CentOS) Server at arch...     \n",
       "16                                     </body></html>     "
      ]
     },
     "execution_count": 4,
     "metadata": {},
     "output_type": "execute_result"
    }
   ],
   "source": [
    "adult"
   ]
  },
  {
   "cell_type": "code",
   "execution_count": 10,
   "metadata": {
    "collapsed": false
   },
   "outputs": [
    {
     "data": {
      "text/plain": [
       "<bound method NDFrame.head of        39          State-gov   77516      Bachelors   13  \\\n",
       "0      50   Self-emp-not-inc   83311      Bachelors   13   \n",
       "1      38            Private  215646        HS-grad    9   \n",
       "2      53            Private  234721           11th    7   \n",
       "3      28            Private  338409      Bachelors   13   \n",
       "4      37            Private  284582        Masters   14   \n",
       "5      49            Private  160187            9th    5   \n",
       "6      52   Self-emp-not-inc  209642        HS-grad    9   \n",
       "7      31            Private   45781        Masters   14   \n",
       "8      42            Private  159449      Bachelors   13   \n",
       "9      37            Private  280464   Some-college   10   \n",
       "10     30          State-gov  141297      Bachelors   13   \n",
       "11     23            Private  122272      Bachelors   13   \n",
       "12     32            Private  205019     Assoc-acdm   12   \n",
       "13     40            Private  121772      Assoc-voc   11   \n",
       "14     34            Private  245487        7th-8th    4   \n",
       "15     25   Self-emp-not-inc  176756        HS-grad    9   \n",
       "16     32            Private  186824        HS-grad    9   \n",
       "17     38            Private   28887           11th    7   \n",
       "18     43   Self-emp-not-inc  292175        Masters   14   \n",
       "19     40            Private  193524      Doctorate   16   \n",
       "20     54            Private  302146        HS-grad    9   \n",
       "21     35        Federal-gov   76845            9th    5   \n",
       "22     43            Private  117037           11th    7   \n",
       "23     59            Private  109015        HS-grad    9   \n",
       "24     56          Local-gov  216851      Bachelors   13   \n",
       "25     19            Private  168294        HS-grad    9   \n",
       "26     54                  ?  180211   Some-college   10   \n",
       "27     39            Private  367260        HS-grad    9   \n",
       "28     49            Private  193366        HS-grad    9   \n",
       "29     23          Local-gov  190709     Assoc-acdm   12   \n",
       "...    ..                ...     ...            ...  ...   \n",
       "32530  30                  ?   33811      Bachelors   13   \n",
       "32531  34            Private  204461      Doctorate   16   \n",
       "32532  54            Private  337992      Bachelors   13   \n",
       "32533  37            Private  179137   Some-college   10   \n",
       "32534  22            Private  325033           12th    8   \n",
       "32535  34            Private  160216      Bachelors   13   \n",
       "32536  30            Private  345898        HS-grad    9   \n",
       "32537  38            Private  139180      Bachelors   13   \n",
       "32538  71                  ?  287372      Doctorate   16   \n",
       "32539  45          State-gov  252208        HS-grad    9   \n",
       "32540  41                  ?  202822        HS-grad    9   \n",
       "32541  72                  ?  129912        HS-grad    9   \n",
       "32542  45          Local-gov  119199     Assoc-acdm   12   \n",
       "32543  31            Private  199655        Masters   14   \n",
       "32544  39          Local-gov  111499     Assoc-acdm   12   \n",
       "32545  37            Private  198216     Assoc-acdm   12   \n",
       "32546  43            Private  260761        HS-grad    9   \n",
       "32547  65   Self-emp-not-inc   99359    Prof-school   15   \n",
       "32548  43          State-gov  255835   Some-college   10   \n",
       "32549  43   Self-emp-not-inc   27242   Some-college   10   \n",
       "32550  32            Private   34066           10th    6   \n",
       "32551  43            Private   84661      Assoc-voc   11   \n",
       "32552  32            Private  116138        Masters   14   \n",
       "32553  53            Private  321865        Masters   14   \n",
       "32554  22            Private  310152   Some-college   10   \n",
       "32555  27            Private  257302     Assoc-acdm   12   \n",
       "32556  40            Private  154374        HS-grad    9   \n",
       "32557  58            Private  151910        HS-grad    9   \n",
       "32558  22            Private  201490        HS-grad    9   \n",
       "32559  52       Self-emp-inc  287927        HS-grad    9   \n",
       "\n",
       "                Never-married        Adm-clerical    Not-in-family  \\\n",
       "0          Married-civ-spouse     Exec-managerial          Husband   \n",
       "1                    Divorced   Handlers-cleaners    Not-in-family   \n",
       "2          Married-civ-spouse   Handlers-cleaners          Husband   \n",
       "3          Married-civ-spouse      Prof-specialty             Wife   \n",
       "4          Married-civ-spouse     Exec-managerial             Wife   \n",
       "5       Married-spouse-absent       Other-service    Not-in-family   \n",
       "6          Married-civ-spouse     Exec-managerial          Husband   \n",
       "7               Never-married      Prof-specialty    Not-in-family   \n",
       "8          Married-civ-spouse     Exec-managerial          Husband   \n",
       "9          Married-civ-spouse     Exec-managerial          Husband   \n",
       "10         Married-civ-spouse      Prof-specialty          Husband   \n",
       "11              Never-married        Adm-clerical        Own-child   \n",
       "12              Never-married               Sales    Not-in-family   \n",
       "13         Married-civ-spouse        Craft-repair          Husband   \n",
       "14         Married-civ-spouse    Transport-moving          Husband   \n",
       "15              Never-married     Farming-fishing        Own-child   \n",
       "16              Never-married   Machine-op-inspct        Unmarried   \n",
       "17         Married-civ-spouse               Sales          Husband   \n",
       "18                   Divorced     Exec-managerial        Unmarried   \n",
       "19         Married-civ-spouse      Prof-specialty          Husband   \n",
       "20                  Separated       Other-service        Unmarried   \n",
       "21         Married-civ-spouse     Farming-fishing          Husband   \n",
       "22         Married-civ-spouse    Transport-moving          Husband   \n",
       "23                   Divorced        Tech-support        Unmarried   \n",
       "24         Married-civ-spouse        Tech-support          Husband   \n",
       "25              Never-married        Craft-repair        Own-child   \n",
       "26         Married-civ-spouse                   ?          Husband   \n",
       "27                   Divorced     Exec-managerial    Not-in-family   \n",
       "28         Married-civ-spouse        Craft-repair          Husband   \n",
       "29              Never-married     Protective-serv    Not-in-family   \n",
       "...                       ...                 ...              ...   \n",
       "32530           Never-married                   ?    Not-in-family   \n",
       "32531      Married-civ-spouse      Prof-specialty          Husband   \n",
       "32532      Married-civ-spouse     Exec-managerial          Husband   \n",
       "32533                Divorced        Adm-clerical        Unmarried   \n",
       "32534           Never-married     Protective-serv        Own-child   \n",
       "32535           Never-married     Exec-managerial    Not-in-family   \n",
       "32536           Never-married        Craft-repair    Not-in-family   \n",
       "32537                Divorced      Prof-specialty        Unmarried   \n",
       "32538      Married-civ-spouse                   ?          Husband   \n",
       "32539               Separated        Adm-clerical        Own-child   \n",
       "32540               Separated                   ?    Not-in-family   \n",
       "32541      Married-civ-spouse                   ?          Husband   \n",
       "32542                Divorced      Prof-specialty        Unmarried   \n",
       "32543                Divorced       Other-service    Not-in-family   \n",
       "32544      Married-civ-spouse        Adm-clerical             Wife   \n",
       "32545                Divorced        Tech-support    Not-in-family   \n",
       "32546      Married-civ-spouse   Machine-op-inspct          Husband   \n",
       "32547           Never-married      Prof-specialty    Not-in-family   \n",
       "32548                Divorced        Adm-clerical   Other-relative   \n",
       "32549      Married-civ-spouse        Craft-repair          Husband   \n",
       "32550      Married-civ-spouse   Handlers-cleaners          Husband   \n",
       "32551      Married-civ-spouse               Sales          Husband   \n",
       "32552           Never-married        Tech-support    Not-in-family   \n",
       "32553      Married-civ-spouse     Exec-managerial          Husband   \n",
       "32554           Never-married     Protective-serv    Not-in-family   \n",
       "32555      Married-civ-spouse        Tech-support             Wife   \n",
       "32556      Married-civ-spouse   Machine-op-inspct          Husband   \n",
       "32557                 Widowed        Adm-clerical        Unmarried   \n",
       "32558           Never-married        Adm-clerical        Own-child   \n",
       "32559      Married-civ-spouse     Exec-managerial             Wife   \n",
       "\n",
       "                     White     Male   2174     0   40   United-States   <=50K  \n",
       "0                    White     Male      0     0   13   United-States   <=50K  \n",
       "1                    White     Male      0     0   40   United-States   <=50K  \n",
       "2                    Black     Male      0     0   40   United-States   <=50K  \n",
       "3                    Black   Female      0     0   40            Cuba   <=50K  \n",
       "4                    White   Female      0     0   40   United-States   <=50K  \n",
       "5                    Black   Female      0     0   16         Jamaica   <=50K  \n",
       "6                    White     Male      0     0   45   United-States    >50K  \n",
       "7                    White   Female  14084     0   50   United-States    >50K  \n",
       "8                    White     Male   5178     0   40   United-States    >50K  \n",
       "9                    Black     Male      0     0   80   United-States    >50K  \n",
       "10      Asian-Pac-Islander     Male      0     0   40           India    >50K  \n",
       "11                   White   Female      0     0   30   United-States   <=50K  \n",
       "12                   Black     Male      0     0   50   United-States   <=50K  \n",
       "13      Asian-Pac-Islander     Male      0     0   40               ?    >50K  \n",
       "14      Amer-Indian-Eskimo     Male      0     0   45          Mexico   <=50K  \n",
       "15                   White     Male      0     0   35   United-States   <=50K  \n",
       "16                   White     Male      0     0   40   United-States   <=50K  \n",
       "17                   White     Male      0     0   50   United-States   <=50K  \n",
       "18                   White   Female      0     0   45   United-States    >50K  \n",
       "19                   White     Male      0     0   60   United-States    >50K  \n",
       "20                   Black   Female      0     0   20   United-States   <=50K  \n",
       "21                   Black     Male      0     0   40   United-States   <=50K  \n",
       "22                   White     Male      0  2042   40   United-States   <=50K  \n",
       "23                   White   Female      0     0   40   United-States   <=50K  \n",
       "24                   White     Male      0     0   40   United-States    >50K  \n",
       "25                   White     Male      0     0   40   United-States   <=50K  \n",
       "26      Asian-Pac-Islander     Male      0     0   60           South    >50K  \n",
       "27                   White     Male      0     0   80   United-States   <=50K  \n",
       "28                   White     Male      0     0   40   United-States   <=50K  \n",
       "29                   White     Male      0     0   52   United-States   <=50K  \n",
       "...                    ...      ...    ...   ...  ...             ...     ...  \n",
       "32530   Asian-Pac-Islander   Female      0     0   99   United-States   <=50K  \n",
       "32531                White     Male      0     0   60   United-States    >50K  \n",
       "32532   Asian-Pac-Islander     Male      0     0   50           Japan    >50K  \n",
       "32533                White   Female      0     0   39   United-States   <=50K  \n",
       "32534                Black     Male      0     0   35   United-States   <=50K  \n",
       "32535                White   Female      0     0   55   United-States    >50K  \n",
       "32536                Black     Male      0     0   46   United-States   <=50K  \n",
       "32537                Black   Female  15020     0   45   United-States    >50K  \n",
       "32538                White     Male      0     0   10   United-States    >50K  \n",
       "32539                White   Female      0     0   40   United-States   <=50K  \n",
       "32540                Black   Female      0     0   32   United-States   <=50K  \n",
       "32541                White     Male      0     0   25   United-States   <=50K  \n",
       "32542                White   Female      0     0   48   United-States   <=50K  \n",
       "32543                Other   Female      0     0   30   United-States   <=50K  \n",
       "32544                White   Female      0     0   20   United-States    >50K  \n",
       "32545                White   Female      0     0   40   United-States   <=50K  \n",
       "32546                White     Male      0     0   40          Mexico   <=50K  \n",
       "32547                White     Male   1086     0   60   United-States   <=50K  \n",
       "32548                White   Female      0     0   40   United-States   <=50K  \n",
       "32549                White     Male      0     0   50   United-States   <=50K  \n",
       "32550   Amer-Indian-Eskimo     Male      0     0   40   United-States   <=50K  \n",
       "32551                White     Male      0     0   45   United-States   <=50K  \n",
       "32552   Asian-Pac-Islander     Male      0     0   11          Taiwan   <=50K  \n",
       "32553                White     Male      0     0   40   United-States    >50K  \n",
       "32554                White     Male      0     0   40   United-States   <=50K  \n",
       "32555                White   Female      0     0   38   United-States   <=50K  \n",
       "32556                White     Male      0     0   40   United-States    >50K  \n",
       "32557                White   Female      0     0   40   United-States   <=50K  \n",
       "32558                White     Male      0     0   20   United-States   <=50K  \n",
       "32559                White   Female  15024     0   40   United-States    >50K  \n",
       "\n",
       "[32560 rows x 15 columns]>"
      ]
     },
     "execution_count": 10,
     "metadata": {},
     "output_type": "execute_result"
    }
   ],
   "source": [
    "adult.head"
   ]
  },
  {
   "cell_type": "code",
   "execution_count": 11,
   "metadata": {
    "collapsed": false
   },
   "outputs": [
    {
     "data": {
      "text/plain": [
       "Index(['39', ' State-gov', ' 77516', ' Bachelors', ' 13', ' Never-married',\n",
       "       ' Adm-clerical', ' Not-in-family', ' White', ' Male', ' 2174', ' 0',\n",
       "       ' 40', ' United-States', ' <=50K'],\n",
       "      dtype='object')"
      ]
     },
     "execution_count": 11,
     "metadata": {},
     "output_type": "execute_result"
    }
   ],
   "source": [
    "adult.columns"
   ]
  },
  {
   "cell_type": "code",
   "execution_count": 34,
   "metadata": {
    "collapsed": false
   },
   "outputs": [
    {
     "ename": "SyntaxError",
     "evalue": "invalid character in identifier (<ipython-input-34-37f3570b4a5a>, line 1)",
     "output_type": "error",
     "traceback": [
      "\u001b[0;36m  File \u001b[0;32m\"<ipython-input-34-37f3570b4a5a>\"\u001b[0;36m, line \u001b[0;32m1\u001b[0m\n\u001b[0;31m    adult.columns=[‘age’, ‘workclass', ‘fnlwgt’, ‘education’, ‘education-num’, ‘marital-status’, ‘occupation’, ‘relationship’, ‘race’, ’sex’, ‘capital-gain’, ‘capital-loss’, ‘hours-per-week’, ‘native-country’ ]\u001b[0m\n\u001b[0m                       ^\u001b[0m\n\u001b[0;31mSyntaxError\u001b[0m\u001b[0;31m:\u001b[0m invalid character in identifier\n"
     ]
    }
   ],
   "source": []
  },
  {
   "cell_type": "code",
   "execution_count": 39,
   "metadata": {
    "collapsed": false
   },
   "outputs": [],
   "source": [
    "\n",
    " \n",
    "adult.columns=['age', 'workclass', 'fnlwgt', 'education', 'education-num', 'marital-status', 'occupation', 'relationship', 'race', 'sex', 'capital-gain', 'capital-loss', 'hours-per-week', 'native-coutry', 'Income' ]\n"
   ]
  },
  {
   "cell_type": "code",
   "execution_count": 52,
   "metadata": {
    "collapsed": false
   },
   "outputs": [
    {
     "ename": "NameError",
     "evalue": "name 'crosstab' is not defined",
     "output_type": "error",
     "traceback": [
      "\u001b[0;31m---------------------------------------------------------------------------\u001b[0m",
      "\u001b[0;31mNameError\u001b[0m                                 Traceback (most recent call last)",
      "\u001b[0;32m<ipython-input-52-ab76519bfeac>\u001b[0m in \u001b[0;36m<module>\u001b[0;34m()\u001b[0m\n\u001b[0;32m----> 1\u001b[0;31m \u001b[0mcrosstab\u001b[0m\u001b[1;33m(\u001b[0m\u001b[0ma\u001b[0m\u001b[1;33m,\u001b[0m \u001b[1;33m[\u001b[0m\u001b[0mb\u001b[0m\u001b[1;33m,\u001b[0m \u001b[0mc\u001b[0m\u001b[1;33m]\u001b[0m\u001b[1;33m,\u001b[0m \u001b[0mrownames\u001b[0m\u001b[1;33m=\u001b[0m\u001b[1;33m[\u001b[0m\u001b[1;34m'a'\u001b[0m\u001b[1;33m]\u001b[0m\u001b[1;33m,\u001b[0m \u001b[0mcolnames\u001b[0m\u001b[1;33m=\u001b[0m\u001b[1;33m[\u001b[0m\u001b[1;34m'b'\u001b[0m\u001b[1;33m,\u001b[0m \u001b[1;34m'c'\u001b[0m\u001b[1;33m]\u001b[0m\u001b[1;33m)\u001b[0m\u001b[1;33m\u001b[0m\u001b[0m\n\u001b[0m",
      "\u001b[0;31mNameError\u001b[0m: name 'crosstab' is not defined"
     ]
    }
   ],
   "source": [
    "crosstab(a, [b, c], rownames=['a'], colnames=['b', 'c'])"
   ]
  },
  {
   "cell_type": "code",
   "execution_count": 60,
   "metadata": {
    "collapsed": false
   },
   "outputs": [],
   "source": [
    "adult1=pd.crosstab(adult.sex,adult.Income)"
   ]
  },
  {
   "cell_type": "code",
   "execution_count": 61,
   "metadata": {
    "collapsed": false
   },
   "outputs": [
    {
     "data": {
      "text/html": [
       "<div>\n",
       "<table border=\"1\" class=\"dataframe\">\n",
       "  <thead>\n",
       "    <tr style=\"text-align: right;\">\n",
       "      <th>Income</th>\n",
       "      <th>&lt;=50K</th>\n",
       "      <th>&gt;50K</th>\n",
       "    </tr>\n",
       "    <tr>\n",
       "      <th>sex</th>\n",
       "      <th></th>\n",
       "      <th></th>\n",
       "    </tr>\n",
       "  </thead>\n",
       "  <tbody>\n",
       "    <tr>\n",
       "      <th>Female</th>\n",
       "      <td>9592</td>\n",
       "      <td>1179</td>\n",
       "    </tr>\n",
       "    <tr>\n",
       "      <th>Male</th>\n",
       "      <td>15125</td>\n",
       "      <td>6662</td>\n",
       "    </tr>\n",
       "  </tbody>\n",
       "</table>\n",
       "</div>"
      ],
      "text/plain": [
       "Income    <=50K   >50K\n",
       "sex                   \n",
       " Female    9592   1179\n",
       " Male     15125   6662"
      ]
     },
     "execution_count": 61,
     "metadata": {},
     "output_type": "execute_result"
    }
   ],
   "source": [
    "adult1"
   ]
  },
  {
   "cell_type": "markdown",
   "metadata": {},
   "source": [
    "Male has more higher generation people"
   ]
  },
  {
   "cell_type": "code",
   "execution_count": 63,
   "metadata": {
    "collapsed": true
   },
   "outputs": [],
   "source": [
    "adult2=pd.crosstab(adult.race,adult.Income)"
   ]
  },
  {
   "cell_type": "code",
   "execution_count": 64,
   "metadata": {
    "collapsed": false
   },
   "outputs": [
    {
     "data": {
      "text/html": [
       "<div>\n",
       "<table border=\"1\" class=\"dataframe\">\n",
       "  <thead>\n",
       "    <tr style=\"text-align: right;\">\n",
       "      <th>Income</th>\n",
       "      <th>&lt;=50K</th>\n",
       "      <th>&gt;50K</th>\n",
       "    </tr>\n",
       "    <tr>\n",
       "      <th>race</th>\n",
       "      <th></th>\n",
       "      <th></th>\n",
       "    </tr>\n",
       "  </thead>\n",
       "  <tbody>\n",
       "    <tr>\n",
       "      <th>Amer-Indian-Eskimo</th>\n",
       "      <td>275</td>\n",
       "      <td>36</td>\n",
       "    </tr>\n",
       "    <tr>\n",
       "      <th>Asian-Pac-Islander</th>\n",
       "      <td>763</td>\n",
       "      <td>276</td>\n",
       "    </tr>\n",
       "    <tr>\n",
       "      <th>Black</th>\n",
       "      <td>2737</td>\n",
       "      <td>387</td>\n",
       "    </tr>\n",
       "    <tr>\n",
       "      <th>Other</th>\n",
       "      <td>246</td>\n",
       "      <td>25</td>\n",
       "    </tr>\n",
       "    <tr>\n",
       "      <th>White</th>\n",
       "      <td>20696</td>\n",
       "      <td>7117</td>\n",
       "    </tr>\n",
       "  </tbody>\n",
       "</table>\n",
       "</div>"
      ],
      "text/plain": [
       "Income                <=50K   >50K\n",
       "race                              \n",
       " Amer-Indian-Eskimo     275     36\n",
       " Asian-Pac-Islander     763    276\n",
       " Black                 2737    387\n",
       " Other                  246     25\n",
       " White                20696   7117"
      ]
     },
     "execution_count": 64,
     "metadata": {},
     "output_type": "execute_result"
    }
   ],
   "source": [
    "adult2"
   ]
  },
  {
   "cell_type": "code",
   "execution_count": 69,
   "metadata": {
    "collapsed": true
   },
   "outputs": [],
   "source": [
    "adult4=pd.groupby(adult.age,adult.sex)"
   ]
  },
  {
   "cell_type": "code",
   "execution_count": 71,
   "metadata": {
    "collapsed": false
   },
   "outputs": [
    {
     "ename": "TypeError",
     "evalue": "f() takes 1 positional argument but 2 were given",
     "output_type": "error",
     "traceback": [
      "\u001b[0;31m---------------------------------------------------------------------------\u001b[0m",
      "\u001b[0;31mTypeError\u001b[0m                                 Traceback (most recent call last)",
      "\u001b[0;32m<ipython-input-71-bd4ca182184b>\u001b[0m in \u001b[0;36m<module>\u001b[0;34m()\u001b[0m\n\u001b[0;32m----> 1\u001b[0;31m \u001b[0madult4\u001b[0m\u001b[1;33m.\u001b[0m\u001b[0msum\u001b[0m\u001b[1;33m(\u001b[0m\u001b[0madult\u001b[0m\u001b[1;33m.\u001b[0m\u001b[0mage\u001b[0m\u001b[1;33m)\u001b[0m\u001b[1;33m\u001b[0m\u001b[0m\n\u001b[0m",
      "\u001b[0;31mTypeError\u001b[0m: f() takes 1 positional argument but 2 were given"
     ]
    }
   ],
   "source": [
    "adult4.sum(adult.age)"
   ]
  },
  {
   "cell_type": "code",
   "execution_count": null,
   "metadata": {
    "collapsed": true
   },
   "outputs": [],
   "source": []
  }
 ],
 "metadata": {
  "kernelspec": {
   "display_name": "Python 3",
   "language": "python",
   "name": "python3"
  },
  "language_info": {
   "codemirror_mode": {
    "name": "ipython",
    "version": 3
   },
   "file_extension": ".py",
   "mimetype": "text/x-python",
   "name": "python",
   "nbconvert_exporter": "python",
   "pygments_lexer": "ipython3",
   "version": "3.6.0"
  }
 },
 "nbformat": 4,
 "nbformat_minor": 2
}
